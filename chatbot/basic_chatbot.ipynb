{
 "cells": [
  {
   "cell_type": "markdown",
   "id": "3fea1ef0",
   "metadata": {},
   "source": [
    "***Chatbot***"
   ]
  },
  {
   "cell_type": "code",
   "execution_count": 93,
   "id": "a0854587",
   "metadata": {},
   "outputs": [],
   "source": [
    "from langgraph.graph import StateGraph, START, END\n",
    "from langgraph.graph.message import add_messages\n",
    "from typing_extensions import TypedDict\n",
    "from typing import Annotated\n",
    "from dotenv import load_dotenv\n",
    "from groq import Groq\n",
    "import os"
   ]
  },
  {
   "cell_type": "markdown",
   "id": "409f9bfe",
   "metadata": {},
   "source": [
    "**Preparing the API Call**"
   ]
  },
  {
   "cell_type": "code",
   "execution_count": 94,
   "id": "eca36f93",
   "metadata": {},
   "outputs": [
    {
     "data": {
      "text/plain": [
       "True"
      ]
     },
     "execution_count": 94,
     "metadata": {},
     "output_type": "execute_result"
    }
   ],
   "source": [
    "load_dotenv()\n",
    "# client = Groq(api_key=os.getenv(\"GROQ_API_KEY\"))"
   ]
  },
  {
   "cell_type": "code",
   "execution_count": 95,
   "id": "715ee4bb",
   "metadata": {},
   "outputs": [],
   "source": [
    "# def generate_response(prompt: str) -> str:\n",
    "#     \"\"\"Generate response using Groq API\"\"\"\n",
    "#     try:\n",
    "#         response = client.chat.completions.create(\n",
    "#             messages=[{\"role\": \"user\", \"content\": prompt}],\n",
    "#             model=\"llama-3.3-70b-versatile\",\n",
    "#         )\n",
    "#         return response.choices[0].message.content\n",
    "#     except Exception as e:\n",
    "#         raise RuntimeError(f\"LLM generation failed: {str(e)}\")"
   ]
  },
  {
   "cell_type": "code",
   "execution_count": 96,
   "id": "c4cf1f8e",
   "metadata": {},
   "outputs": [],
   "source": [
    "from langchain_groq import ChatGroq\n",
    "\n",
    "llm = ChatGroq(model=\"llama-3.3-70b-versatile\")"
   ]
  },
  {
   "cell_type": "code",
   "execution_count": 97,
   "id": "eded8d47",
   "metadata": {},
   "outputs": [],
   "source": [
    "class State(TypedDict):\n",
    "\n",
    "    messages: Annotated[list, add_messages]\n",
    "\n",
    "graph_builder = StateGraph(State)"
   ]
  },
  {
   "cell_type": "code",
   "execution_count": 98,
   "id": "fe908015",
   "metadata": {},
   "outputs": [],
   "source": [
    "def chatbot(state: State):\n",
    "    return {\"messages\": [llm.invoke(state['messages'])]}"
   ]
  },
  {
   "cell_type": "code",
   "execution_count": 99,
   "id": "262634c4",
   "metadata": {},
   "outputs": [
    {
     "data": {
      "text/plain": [
       "<langgraph.graph.state.StateGraph at 0x20d6937b770>"
      ]
     },
     "execution_count": 99,
     "metadata": {},
     "output_type": "execute_result"
    }
   ],
   "source": [
    "graph_builder.add_node('llmchatbot', chatbot)\n",
    "\n",
    "graph_builder.add_edge(START, 'llmchatbot')\n",
    "graph_builder.add_edge('llmchatbot', END)"
   ]
  },
  {
   "cell_type": "code",
   "execution_count": 100,
   "id": "e2de60f3",
   "metadata": {},
   "outputs": [],
   "source": [
    "graph = graph_builder.compile()"
   ]
  },
  {
   "cell_type": "code",
   "execution_count": 101,
   "id": "e6d01090",
   "metadata": {},
   "outputs": [],
   "source": [
    "response = graph.invoke({\"messages\": \"Hi\"})"
   ]
  },
  {
   "cell_type": "code",
   "execution_count": 102,
   "id": "192609f2",
   "metadata": {},
   "outputs": [
    {
     "data": {
      "text/plain": [
       "{'messages': [HumanMessage(content='Hi', additional_kwargs={}, response_metadata={}, id='2db257cd-8552-488a-bd3f-a6eda701b472'),\n",
       "  AIMessage(content=\"It's nice to meet you. Is there something I can help you with or would you like to chat?\", additional_kwargs={}, response_metadata={'token_usage': {'completion_tokens': 23, 'prompt_tokens': 36, 'total_tokens': 59, 'completion_time': 0.045941796, 'prompt_time': 0.001756608, 'queue_time': 0.051267212, 'total_time': 0.047698404}, 'model_name': 'llama-3.3-70b-versatile', 'system_fingerprint': 'fp_3f3b593e33', 'service_tier': 'on_demand', 'finish_reason': 'stop', 'logprobs': None}, id='run--891e9917-a4d6-47f2-a83d-653d55a897a1-0', usage_metadata={'input_tokens': 36, 'output_tokens': 23, 'total_tokens': 59})]}"
      ]
     },
     "execution_count": 102,
     "metadata": {},
     "output_type": "execute_result"
    }
   ],
   "source": [
    "response"
   ]
  },
  {
   "cell_type": "code",
   "execution_count": 103,
   "id": "573e7aa6",
   "metadata": {},
   "outputs": [
    {
     "name": "stdout",
     "output_type": "stream",
     "text": [
      "Hello. I'm just a language model, so I don't have feelings or emotions like humans do, but I'm functioning properly and ready to assist you. How can I help you today?\n"
     ]
    }
   ],
   "source": [
    "for event in graph.stream({\"messages\": \"Hi! How are you?\"}):\n",
    "    for value in event.values():\n",
    "        print(value[\"messages\"][-1].content)"
   ]
  },
  {
   "cell_type": "markdown",
   "id": "781877b7",
   "metadata": {},
   "source": [
    "**Adding a Tool**"
   ]
  },
  {
   "cell_type": "code",
   "execution_count": 104,
   "id": "a2418bf9",
   "metadata": {},
   "outputs": [
    {
     "data": {
      "text/plain": [
       "{'query': 'What is Langchain?',\n",
       " 'follow_up_questions': None,\n",
       " 'answer': None,\n",
       " 'images': [],\n",
       " 'results': [{'url': 'https://python.langchain.com/docs/introduction/',\n",
       "   'title': 'Introduction | 🦜 LangChain',\n",
       "   'content': \"*   Build a simple LLM application with chat models and prompt templates *   How to migrate from legacy LangChain agents to LangGraph *   How to use chat models to call tools *   How to pass tool outputs to chat models *   **`langchain`**: Chains, agents, and retrieval strategies that make up an application's cognitive architecture. However, these guides will help you quickly accomplish common tasks using chat models, vector stores, and other common LangChain components. LangChain is part of a rich ecosystem of tools that integrate with our framework and build on top of it. If you're looking to get up and running quickly with chat models, vector stores, or other LangChain components from a specific provider, check out our growing list of integrations.\",\n",
       "   'score': 0.8315952,\n",
       "   'raw_content': None},\n",
       "  {'url': 'https://aws.amazon.com/what-is/langchain/',\n",
       "   'title': 'What is LangChain? - AWS',\n",
       "   'content': 'If you agree, AWS and approved third parties will also use cookies to provide useful site features, remember your preferences, and display relevant content, including relevant advertising. Amazon EventBridge Serverless event bus for SaaS apps & AWS services What is AWS AWS Developer Center AWS Support AWS Managed Services Become an AWS Partner AWS Managed Services AWS Support AWS Support AWS Managed Services AWS Profile Explore Generative AI Services Build, deploy, and run generative AI applications on AWS LangChain provides AI developers with tools to connect language models with external data sources. You can connect Amazon Kendra to LangChain, which uses data from proprietary databases to refine language model outputs. Learn About AWS What Is AWS? Resources for AWS AWS Partners Developers on AWS',\n",
       "   'score': 0.8025714,\n",
       "   'raw_content': None}],\n",
       " 'response_time': 0.96}"
      ]
     },
     "execution_count": 104,
     "metadata": {},
     "output_type": "execute_result"
    }
   ],
   "source": [
    "from langchain_tavily import TavilySearch\n",
    "\n",
    "tool = TavilySearch(max_results = 2)\n",
    "\n",
    "tool.invoke(\"What is Langchain?\")"
   ]
  },
  {
   "cell_type": "code",
   "execution_count": 105,
   "id": "4ea9c293",
   "metadata": {},
   "outputs": [],
   "source": [
    "\n",
    "# custom function\n",
    "def multiply(a:int, b:int):\n",
    "    \"\"\"Multiply a and b\n",
    "\n",
    "    Args:\n",
    "        a (int): first int    \n",
    "        b (int): second int  \n",
    "\n",
    "    Returns: \n",
    "        int: output int  \n",
    "    \n",
    "    \"\"\"\n",
    "    return a*b"
   ]
  },
  {
   "cell_type": "code",
   "execution_count": 106,
   "id": "233f41f5",
   "metadata": {},
   "outputs": [],
   "source": [
    "tools = [tool, multiply]"
   ]
  },
  {
   "cell_type": "code",
   "execution_count": 107,
   "id": "e1ed989c",
   "metadata": {},
   "outputs": [],
   "source": [
    "llm_with_tools = llm.bind_tools(tools)"
   ]
  },
  {
   "cell_type": "code",
   "execution_count": 108,
   "id": "97fec766",
   "metadata": {},
   "outputs": [
    {
     "data": {
      "text/plain": [
       "RunnableBinding(bound=ChatGroq(client=<groq.resources.chat.completions.Completions object at 0x0000020D69378BF0>, async_client=<groq.resources.chat.completions.AsyncCompletions object at 0x0000020D6937B9E0>, model_name='llama-3.3-70b-versatile', model_kwargs={}, groq_api_key=SecretStr('**********')), kwargs={'tools': [{'type': 'function', 'function': {'name': 'tavily_search', 'description': 'A search engine optimized for comprehensive, accurate, and trusted results. Useful for when you need to answer questions about current events. It not only retrieves URLs and snippets, but offers advanced search depths, domain management, time range filters, and image search, this tool delivers real-time, accurate, and citation-backed results.Input should be a search query.', 'parameters': {'properties': {'query': {'description': 'Search query to look up', 'type': 'string'}, 'include_domains': {'anyOf': [{'items': {'type': 'string'}, 'type': 'array'}, {'type': 'null'}], 'default': [], 'description': 'A list of domains to restrict search results to.\\n\\n        Use this parameter when:\\n        1. The user explicitly requests information from specific websites (e.g., \"Find climate data from nasa.gov\")\\n        2. The user mentions an organization or company without specifying the domain (e.g., \"Find information about iPhones from Apple\")\\n\\n        In both cases, you should determine the appropriate domains (e.g., [\"nasa.gov\"] or [\"apple.com\"]) and set this parameter.\\n\\n        Results will ONLY come from the specified domains - no other sources will be included.\\n        Default is None (no domain restriction).\\n        '}, 'exclude_domains': {'anyOf': [{'items': {'type': 'string'}, 'type': 'array'}, {'type': 'null'}], 'default': [], 'description': 'A list of domains to exclude from search results.\\n\\n        Use this parameter when:\\n        1. The user explicitly requests to avoid certain websites (e.g., \"Find information about climate change but not from twitter.com\")\\n        2. The user mentions not wanting results from specific organizations without naming the domain (e.g., \"Find phone reviews but nothing from Apple\")\\n\\n        In both cases, you should determine the appropriate domains to exclude (e.g., [\"twitter.com\"] or [\"apple.com\"]) and set this parameter.\\n\\n        Results will filter out all content from the specified domains.\\n        Default is None (no domain exclusion).\\n        '}, 'search_depth': {'anyOf': [{'enum': ['basic', 'advanced'], 'type': 'string'}, {'type': 'null'}], 'default': 'basic', 'description': 'Controls search thoroughness and result comprehensiveness.\\n    \\n        Use \"basic\" for simple queries requiring quick, straightforward answers.\\n        \\n        Use \"advanced\" (default) for complex queries, specialized topics, \\n        rare information, or when in-depth analysis is needed.\\n        '}, 'include_images': {'anyOf': [{'type': 'boolean'}, {'type': 'null'}], 'default': False, 'description': 'Determines if the search returns relevant images along with text results.\\n   \\n        Set to True when the user explicitly requests visuals or when images would \\n        significantly enhance understanding (e.g., \"Show me what black holes look like,\" \\n        \"Find pictures of Renaissance art\").\\n        \\n        Leave as False (default) for most informational queries where text is sufficient.\\n        '}, 'time_range': {'anyOf': [{'enum': ['day', 'week', 'month', 'year'], 'type': 'string'}, {'type': 'null'}], 'default': None, 'description': 'Limits results to content published within a specific timeframe.\\n        \\n        ONLY set this when the user explicitly mentions a time period \\n        (e.g., \"latest AI news,\" \"articles from last week\").\\n        \\n        For less popular or niche topics, use broader time ranges \\n        (\"month\" or \"year\") to ensure sufficient relevant results.\\n   \\n        Options: \"day\" (24h), \"week\" (7d), \"month\" (30d), \"year\" (365d).\\n        \\n        Default is None.\\n        '}, 'topic': {'anyOf': [{'enum': ['general', 'news', 'finance'], 'type': 'string'}, {'type': 'null'}], 'default': 'general', 'description': 'Specifies search category for optimized results.\\n   \\n        Use \"general\" (default) for most queries, INCLUDING those with terms like \\n        \"latest,\" \"newest,\" or \"recent\" when referring to general information.\\n\\n        Use \"finance\" for markets, investments, economic data, or financial news.\\n\\n        Use \"news\" ONLY for politics, sports, or major current events covered by \\n        mainstream media - NOT simply because a query asks for \"new\" information.\\n        '}, 'include_favicon': {'anyOf': [{'type': 'boolean'}, {'type': 'null'}], 'default': False, 'description': \"Determines whether to include favicon URLs for each search result.\\n        \\n        When enabled, each search result will include the website's favicon URL,\\n        which can be useful for:\\n        - Building rich UI interfaces with visual website indicators\\n        - Providing visual cues about the source's credibility or brand\\n        - Creating bookmark-like displays with recognizable site icons\\n        \\n        Set to True when creating user interfaces that benefit from visual branding\\n        or when favicon information enhances the user experience.\\n        \\n        Default is False to minimize response size and API usage.\\n        \"}, 'start_date': {'anyOf': [{'type': 'string'}, {'type': 'null'}], 'default': None, 'description': 'Filters search results to include only content published on or after this date.\\n        \\n        Use this parameter when you need to:\\n        - Find recent developments or updates on a topic\\n        - Exclude outdated information from search results\\n        - Focus on content within a specific timeframe\\n        - Combine with end_date to create a custom date range\\n        \\n        Format must be YYYY-MM-DD (e.g., \"2024-01-15\" for January 15, 2024).\\n        \\n        Examples:\\n        - \"2024-01-01\" - Results from January 1, 2024 onwards\\n        - \"2023-12-25\" - Results from December 25, 2023 onwards\\n        \\n        When combined with end_date, creates a precise date range filter.\\n        \\n        Default is None (no start date restriction).\\n        '}, 'end_date': {'anyOf': [{'type': 'string'}, {'type': 'null'}], 'default': None, 'description': 'Filters search results to include only content published on or before this date.\\n        \\n        Use this parameter when you need to:\\n        - Exclude content published after a certain date\\n        - Study historical information or past events\\n        - Research how topics were covered during specific time periods\\n        - Combine with start_date to create a custom date range\\n        \\n        Format must be YYYY-MM-DD (e.g., \"2024-03-31\" for March 31, 2024).\\n        \\n        Examples:\\n        - \"2024-03-31\" - Results up to and including March 31, 2024\\n        - \"2023-12-31\" - Results up to and including December 31, 2023\\n        \\n        When combined with start_date, creates a precise date range filter.\\n        For example: start_date=\"2024-01-01\", end_date=\"2024-03-31\" \\n        returns results from Q1 2024 only.\\n        \\n        Default is None (no end date restriction).\\n        '}}, 'required': ['query'], 'type': 'object'}}}, {'type': 'function', 'function': {'name': 'multiply', 'description': 'Multiply a and b', 'parameters': {'properties': {'a': {'description': 'first int', 'type': 'integer'}, 'b': {'description': 'second int', 'type': 'integer'}}, 'required': ['a', 'b'], 'type': 'object'}}}]}, config={}, config_factories=[])"
      ]
     },
     "execution_count": 108,
     "metadata": {},
     "output_type": "execute_result"
    }
   ],
   "source": [
    "llm_with_tools"
   ]
  },
  {
   "cell_type": "code",
   "execution_count": 109,
   "id": "63a007f1",
   "metadata": {},
   "outputs": [],
   "source": [
    "from langgraph.prebuilt import ToolNode\n",
    "from langgraph.prebuilt import tools_condition\n",
    "from langgraph.checkpoint.memory import MemorySaver"
   ]
  },
  {
   "cell_type": "code",
   "execution_count": 110,
   "id": "7adddedb",
   "metadata": {},
   "outputs": [],
   "source": [
    "def tool_callinhg_llm(state: State):\n",
    "    return {\"messages\":[llm]}"
   ]
  },
  {
   "cell_type": "code",
   "execution_count": 111,
   "id": "3ca38363",
   "metadata": {},
   "outputs": [],
   "source": [
    "def tool_calling_llm(state: State):\n",
    "    return {\"messages\": llm_with_tools.invoke(state[\"messages\"])}"
   ]
  },
  {
   "cell_type": "code",
   "execution_count": 112,
   "id": "c5028fbd",
   "metadata": {},
   "outputs": [
    {
     "data": {
      "image/png": "[encoded data removed]",
      "text/plain": [
       "<langgraph.graph.state.CompiledStateGraph object at 0x0000020D6937B110>"
      ]
     },
     "execution_count": 112,
     "metadata": {},
     "output_type": "execute_result"
    }
   ],
   "source": [
    "builder=StateGraph(State)\n",
    "\n",
    "builder.add_node('tool_calling_llm', tool_calling_llm)\n",
    "builder.add_node('tools', ToolNode(tools))\n",
    "\n",
    "builder.add_edge(START, \"tool_calling_llm\")\n",
    "builder.add_conditional_edges(\n",
    "    \"tool_calling_llm\",\n",
    "    tools_condition\n",
    ")\n",
    "builder.add_edge(\"tools\", END)\n",
    "\n",
    "graph = builder.compile()\n",
    "\n",
    "graph"
   ]
  },
  {
   "cell_type": "code",
   "execution_count": 113,
   "id": "44cead4c",
   "metadata": {},
   "outputs": [],
   "source": [
    "response = graph.invoke({\"messages\":\"What is the recent AI news\"})"
   ]
  },
  {
   "cell_type": "code",
   "execution_count": 114,
   "id": "f881c2ab",
   "metadata": {},
   "outputs": [
    {
     "data": {
      "text/plain": [
       "'{\"query\": \"recent AI news\", \"follow_up_questions\": null, \"answer\": null, \"images\": [], \"results\": [{\"url\": \"https://www.reuters.com/technology/artificial-intelligence/\", \"title\": \"Artificial Intelligence - AI News - Reuters\", \"content\": \"Robots spar, play Mahjong at China\\'s AI conference · New robotic dog aims to tackle all-terrain environment · Samsung shares jump on news of $16.5 bln Tesla chips\", \"score\": 0.6899958, \"raw_content\": null}, {\"url\": \"https://www.economist.com/international/2025/07/29/how-spy-agencies-are-experimenting-with-the-newest-ai-models\", \"title\": \"How spy agencies are experimenting with the newest AI models\", \"content\": \"ON THE SAME day as Donald Trump\\'s inauguration as president DeepSeek, a Chinese company, released a world-class large language model (LLM).\", \"score\": 0.44999737, \"raw_content\": null}], \"response_time\": 1.37}'"
      ]
     },
     "execution_count": 114,
     "metadata": {},
     "output_type": "execute_result"
    }
   ],
   "source": [
    "response[\"messages\"][-1].content"
   ]
  },
  {
   "cell_type": "code",
   "execution_count": 115,
   "id": "8629077d",
   "metadata": {},
   "outputs": [
    {
     "name": "stdout",
     "output_type": "stream",
     "text": [
      "================================\u001b[1m Human Message \u001b[0m=================================\n",
      "\n",
      "What is the recent AI news\n",
      "==================================\u001b[1m Ai Message \u001b[0m==================================\n",
      "Tool Calls:\n",
      "  tavily_search (q5fm7g0bq)\n",
      " Call ID: q5fm7g0bq\n",
      "  Args:\n",
      "    query: recent AI news\n",
      "    time_range: day\n",
      "    topic: news\n",
      "=================================\u001b[1m Tool Message \u001b[0m=================================\n",
      "Name: tavily_search\n",
      "\n",
      "{\"query\": \"recent AI news\", \"follow_up_questions\": null, \"answer\": null, \"images\": [], \"results\": [{\"url\": \"https://www.reuters.com/technology/artificial-intelligence/\", \"title\": \"Artificial Intelligence - AI News - Reuters\", \"content\": \"Robots spar, play Mahjong at China's AI conference · New robotic dog aims to tackle all-terrain environment · Samsung shares jump on news of $16.5 bln Tesla chips\", \"score\": 0.6899958, \"raw_content\": null}, {\"url\": \"https://www.economist.com/international/2025/07/29/how-spy-agencies-are-experimenting-with-the-newest-ai-models\", \"title\": \"How spy agencies are experimenting with the newest AI models\", \"content\": \"ON THE SAME day as Donald Trump's inauguration as president DeepSeek, a Chinese company, released a world-class large language model (LLM).\", \"score\": 0.44999737, \"raw_content\": null}], \"response_time\": 1.37}\n"
     ]
    }
   ],
   "source": [
    "for m in response[\"messages\"]:\n",
    "    m.pretty_print()"
   ]
  },
  {
   "cell_type": "code",
   "execution_count": 116,
   "id": "cb634f49",
   "metadata": {},
   "outputs": [],
   "source": [
    "response = graph.invoke({\"messages\":\"what is 3 multiply by 3\"})"
   ]
  },
  {
   "cell_type": "code",
   "execution_count": 117,
   "id": "27077a61",
   "metadata": {},
   "outputs": [
    {
     "name": "stdout",
     "output_type": "stream",
     "text": [
      "================================\u001b[1m Human Message \u001b[0m=================================\n",
      "\n",
      "what is 3 multiply by 3\n",
      "==================================\u001b[1m Ai Message \u001b[0m==================================\n",
      "Tool Calls:\n",
      "  multiply (0722fhwd3)\n",
      " Call ID: 0722fhwd3\n",
      "  Args:\n",
      "    a: 3\n",
      "    b: 3\n",
      "=================================\u001b[1m Tool Message \u001b[0m=================================\n",
      "Name: multiply\n",
      "\n",
      "9\n"
     ]
    }
   ],
   "source": [
    "for m in response[\"messages\"]:\n",
    "    m.pretty_print()"
   ]
  },
  {
   "cell_type": "markdown",
   "id": "844f7687",
   "metadata": {},
   "source": [
    "**ReAct Agent Architecture**"
   ]
  },
  {
   "cell_type": "code",
   "execution_count": 118,
   "id": "67b4fac0",
   "metadata": {},
   "outputs": [
    {
     "data": {
      "image/png": "[encoded data removed]",
      "text/plain": [
       "<langgraph.graph.state.CompiledStateGraph object at 0x0000020D67799CD0>"
      ]
     },
     "execution_count": 118,
     "metadata": {},
     "output_type": "execute_result"
    }
   ],
   "source": [
    "builder=StateGraph(State)\n",
    "\n",
    "builder.add_node('tool_calling_llm', tool_calling_llm)\n",
    "builder.add_node('tools', ToolNode(tools))\n",
    "\n",
    "builder.add_edge(START, \"tool_calling_llm\")\n",
    "builder.add_conditional_edges(\n",
    "    \"tool_calling_llm\",\n",
    "    tools_condition\n",
    ")\n",
    "builder.add_edge(\"tools\", \"tool_calling_llm\")\n",
    "\n",
    "graph = builder.compile()\n",
    "\n",
    "graph"
   ]
  },
  {
   "cell_type": "code",
   "execution_count": 119,
   "id": "563bb451",
   "metadata": {},
   "outputs": [],
   "source": [
    "response = graph.invoke({\"messages\":\"what is recent ai news and what is 3 multiply by 3\"})"
   ]
  },
  {
   "cell_type": "code",
   "execution_count": 120,
   "id": "68a39c94",
   "metadata": {},
   "outputs": [
    {
     "name": "stdout",
     "output_type": "stream",
     "text": [
      "================================\u001b[1m Human Message \u001b[0m=================================\n",
      "\n",
      "what is recent ai news and what is 3 multiply by 3\n",
      "==================================\u001b[1m Ai Message \u001b[0m==================================\n",
      "Tool Calls:\n",
      "  tavily_search (sx6nvh3ek)\n",
      " Call ID: sx6nvh3ek\n",
      "  Args:\n",
      "    query: recent AI news\n",
      "    time_range: day\n",
      "    topic: news\n",
      "  multiply (3gqkv3rr4)\n",
      " Call ID: 3gqkv3rr4\n",
      "  Args:\n",
      "    a: 3\n",
      "    b: 3\n",
      "=================================\u001b[1m Tool Message \u001b[0m=================================\n",
      "Name: tavily_search\n",
      "\n",
      "{\"query\": \"recent AI news\", \"follow_up_questions\": null, \"answer\": null, \"images\": [], \"results\": [{\"url\": \"https://macholevante.com/ai-stock-frenzy-record-highs-bold-bets-and-backlash-in-late-july-2025/\", \"title\": \"AI Stock Frenzy: Record Highs, Bold Bets, and Backlash in Late July 2025 - Macholevante\", \"score\": 0.7011614, \"published_date\": \"Wed, 30 Jul 2025 09:10:35 GMT\", \"content\": \"In a headline announcement, leading AI chipmakers (including Huawei, Biren, Enflame, and Moore Threads) teamed up with top large-model developers (like StepFun and MiniMax) to form the **“Model-Chip Ecosystem Innovation Alliance.”** The goal of this alliance is to **standardize a homegrown AI tech stack** – linking **hardware and software** – so that Chinese AI labs can seamlessly swap in domestic chips for Nvidia’s and still run advanced AI models tomshardware.comtomshardware.com. **Sources:** Major financial news outlets and company reports (Bloomberg, Reuters, AP, Investopedia, TechCrunch) covering AI stock developments on July 29–30, 2025, including earnings releases, analyst commentary, and government announcements nasdaq.comreuters.comwhitehouse.govinvestopedia.comreuters.cominvestopedia.comtomshardware.comaccesswdun.com.\", \"raw_content\": null}, {\"url\": \"https://zamin.uz/en/technology/155797-nvidia-rival-groq-to-raise-big-in-ai-chip-race.html\", \"title\": \"NVIDIA rival Groq to raise big in AI chip race - Zamin.uz\", \"score\": 0.64047897, \"published_date\": \"Tue, 29 Jul 2025 23:28:00 GMT\", \"content\": \"Image 1: Zamin Image 2: Zamin search Image 5: NVIDIA rival Groq to raise big in AI chip race Image 14: AI-powered video technology startups Luma and Runway Robotics could be the next big thing for Luma and Runway Today, 04:33 Image 18: AI data analytics startup Julius has raised $10 million Julius raises $10M seed round for AI data analytics Today, 02:35 Image 25: The Central Bank of Uzbekistan announced the official Exchange rates for July 25 have been announced 16:27, 24-07-2025 Image 32: The Central Bank of Uzbekistan has announced the official Exchange rates updated for July 24 16:04, 23-07-2025 Image 47: OpenAI has entered into a strategic partnership with OpenAI is building the world's largest AI data center called Stargate Image 48Yesterday, 02:03\", \"raw_content\": null}], \"response_time\": 1.24}\n",
      "=================================\u001b[1m Tool Message \u001b[0m=================================\n",
      "Name: multiply\n",
      "\n",
      "9\n",
      "==================================\u001b[1m Ai Message \u001b[0m==================================\n",
      "\n",
      "Recent AI news includes the formation of the \"Model-Chip Ecosystem Innovation Alliance\" by leading AI chipmakers and large-model developers to standardize a homegrown AI tech stack, and NVIDIA rival Groq raising funds in the AI chip race. The result of 3 multiplied by 3 is 9.\n"
     ]
    }
   ],
   "source": [
    "for m in response[\"messages\"]:\n",
    "    m.pretty_print()"
   ]
  },
  {
   "cell_type": "markdown",
   "id": "820d1632",
   "metadata": {},
   "source": [
    "**Adding Memory in Agentic Graph**"
   ]
  },
  {
   "cell_type": "code",
   "execution_count": 121,
   "id": "59db45e3",
   "metadata": {},
   "outputs": [],
   "source": [
    "memory = MemorySaver()"
   ]
  },
  {
   "cell_type": "code",
   "execution_count": 122,
   "id": "3519f2c8",
   "metadata": {},
   "outputs": [
    {
     "data": {
      "image/png": "[encoded data removed]",
      "text/plain": [
       "<langgraph.graph.state.CompiledStateGraph object at 0x0000020D68AD5EE0>"
      ]
     },
     "execution_count": 122,
     "metadata": {},
     "output_type": "execute_result"
    }
   ],
   "source": [
    "builder=StateGraph(State)\n",
    "\n",
    "builder.add_node('tool_calling_llm', tool_calling_llm)\n",
    "builder.add_node('tools', ToolNode(tools))\n",
    "\n",
    "builder.add_edge(START, \"tool_calling_llm\")\n",
    "builder.add_conditional_edges(\n",
    "    \"tool_calling_llm\",\n",
    "    tools_condition\n",
    ")\n",
    "builder.add_edge(\"tools\", END)\n",
    "\n",
    "graph = builder.compile(checkpointer=memory)\n",
    "\n",
    "graph"
   ]
  },
  {
   "cell_type": "code",
   "execution_count": null,
   "id": "73941218",
   "metadata": {},
   "outputs": [],
   "source": []
  },
  {
   "cell_type": "code",
   "execution_count": 124,
   "id": "e3f54c62",
   "metadata": {},
   "outputs": [
    {
     "data": {
      "text/plain": [
       "{'messages': [HumanMessage(content='Hi my name is Musharraf', additional_kwargs={}, response_metadata={}, id='8dd0baac-bcb7-4700-9cab-064108bd9100'),\n",
       "  AIMessage(content=\"Hello Musharraf, it's nice to meet you. Is there something I can help you with or would you like to chat?\", additional_kwargs={}, response_metadata={'token_usage': {'completion_tokens': 28, 'prompt_tokens': 1856, 'total_tokens': 1884, 'completion_time': 0.095023989, 'prompt_time': 0.108093411, 'queue_time': 0.05326451800000001, 'total_time': 0.2031174}, 'model_name': 'llama-3.3-70b-versatile', 'system_fingerprint': 'fp_3f3b593e33', 'service_tier': 'on_demand', 'finish_reason': 'stop', 'logprobs': None}, id='run--2f5f3a2c-289d-489a-9859-0e74b05f26e6-0', usage_metadata={'input_tokens': 1856, 'output_tokens': 28, 'total_tokens': 1884})]}"
      ]
     },
     "execution_count": 124,
     "metadata": {},
     "output_type": "execute_result"
    }
   ],
   "source": [
    "config = {\"configurable\":{\"thread_id\":\"1\"}}\n",
    "response = graph.invoke({\"messages\":\"Hi my name is Musharraf\"}, config=config)\n",
    "response"
   ]
  },
  {
   "cell_type": "code",
   "execution_count": 127,
   "id": "ad1d9a88",
   "metadata": {},
   "outputs": [
    {
     "data": {
      "text/plain": [
       "'Your name is Musharraf.'"
      ]
     },
     "execution_count": 127,
     "metadata": {},
     "output_type": "execute_result"
    }
   ],
   "source": [
    "config = {\"configurable\":{\"thread_id\":\"1\"}}\n",
    "response = graph.invoke({\"messages\":\"Hey! do you remember my name\"}, config=config)\n",
    "response['messages'][-1].content"
   ]
  },
  {
   "cell_type": "markdown",
   "id": "0720dba1",
   "metadata": {},
   "source": [
    "**Streaming**"
   ]
  },
  {
   "cell_type": "code",
   "execution_count": 128,
   "id": "b7345a42",
   "metadata": {},
   "outputs": [],
   "source": [
    "from langgraph.checkpoint.memory import MemorySaver\n",
    "memory = MemorySaver()"
   ]
  },
  {
   "cell_type": "code",
   "execution_count": 129,
   "id": "f5656a9e",
   "metadata": {},
   "outputs": [],
   "source": [
    "def superbot(state: State):\n",
    "    return {\"messages\":[llm.invoke(state[\"messages\"])]}"
   ]
  },
  {
   "cell_type": "code",
   "execution_count": 132,
   "id": "e460d10f",
   "metadata": {},
   "outputs": [],
   "source": [
    "graph = StateGraph(State)\n",
    "\n",
    "graph.add_node('superbot', superbot)\n",
    "\n",
    "\n",
    "graph.add_edge(START, \"superbot\")\n",
    "graph.add_edge(\"superbot\", END)\n",
    "\n",
    "graph_builder = graph.compile(checkpointer=memory)\n"
   ]
  },
  {
   "cell_type": "code",
   "execution_count": 133,
   "id": "62632f65",
   "metadata": {},
   "outputs": [
    {
     "data": {
      "image/png": "[encoded data removed]",
      "text/plain": [
       "<langgraph.graph.state.CompiledStateGraph object at 0x0000020D69367200>"
      ]
     },
     "execution_count": 133,
     "metadata": {},
     "output_type": "execute_result"
    }
   ],
   "source": [
    "graph_builder"
   ]
  },
  {
   "cell_type": "code",
   "execution_count": 134,
   "id": "deb188f7",
   "metadata": {},
   "outputs": [
    {
     "data": {
      "text/plain": [
       "{'messages': [HumanMessage(content='My name is Musharraf Hamraz and I llike Cricket', additional_kwargs={}, response_metadata={}, id='ea5b6273-6b94-4c3e-97ae-8d2316ad016d'),\n",
       "  AIMessage(content=\"Nice to meet you, Musharraf Hamraz. Cricket is a fantastic sport, and I'm sure you must be excited about the thrill and strategy involved in the game. Which team or player is your favorite? Are you a fan of international cricket, or do you follow any specific domestic leagues, such as the IPL or PSL?\", additional_kwargs={}, response_metadata={'token_usage': {'completion_tokens': 69, 'prompt_tokens': 48, 'total_tokens': 117, 'completion_time': 0.230445427, 'prompt_time': 0.002122166, 'queue_time': 0.052901364, 'total_time': 0.232567593}, 'model_name': 'llama-3.3-70b-versatile', 'system_fingerprint': 'fp_9a8b91ba77', 'service_tier': 'on_demand', 'finish_reason': 'stop', 'logprobs': None}, id='run--9f6ab64a-6b5d-43e0-bbeb-cdec4322bd86-0', usage_metadata={'input_tokens': 48, 'output_tokens': 69, 'total_tokens': 117})]}"
      ]
     },
     "execution_count": 134,
     "metadata": {},
     "output_type": "execute_result"
    }
   ],
   "source": [
    "config = {\"configurable\": {\"thread_id\": \"1\"}}\n",
    "\n",
    "graph_builder.invoke({\"messages\": \"My name is Musharraf Hamraz and I llike Cricket\"}, config=config)"
   ]
  },
  {
   "cell_type": "code",
   "execution_count": 135,
   "id": "2db80016",
   "metadata": {},
   "outputs": [
    {
     "name": "stdout",
     "output_type": "stream",
     "text": [
      "{'superbot': {'messages': [AIMessage(content=\"Nice to meet you, Musharraf Hamraz! It's great that you like cricket. Cricket is an exciting sport with a huge following worldwide. Are you a fan of a particular cricket team or player? Do you have a favorite format of the game, such as Test matches, One-Day Internationals (ODIs), or Twenty20 (T20) cricket?\", additional_kwargs={}, response_metadata={'token_usage': {'completion_tokens': 76, 'prompt_tokens': 139, 'total_tokens': 215, 'completion_time': 0.223892641, 'prompt_time': 0.007037141, 'queue_time': 0.008689903999999998, 'total_time': 0.230929782}, 'model_name': 'llama-3.3-70b-versatile', 'system_fingerprint': 'fp_6507bcfb6f', 'service_tier': 'on_demand', 'finish_reason': 'stop', 'logprobs': None}, id='run--6b71b406-e7a3-4d4f-8ee9-436e2d781e4d-0', usage_metadata={'input_tokens': 139, 'output_tokens': 76, 'total_tokens': 215})]}}\n"
     ]
    }
   ],
   "source": [
    "config = {\"configurable\": {\"thread_id\": \"1\"}}\n",
    "\n",
    "for chunk in graph_builder.stream({\"messages\": \"My name is Musharraf Hamraz and I llike Cricket\"}, config=config, stream_mode=\"updates\"):\n",
    "    print(chunk)"
   ]
  },
  {
   "cell_type": "code",
   "execution_count": 144,
   "id": "2a09b4ac",
   "metadata": {},
   "outputs": [
    {
     "ename": "TypeError",
     "evalue": "'async_generator' object is not iterable",
     "output_type": "error",
     "traceback": [
      "\u001b[31m---------------------------------------------------------------------------\u001b[39m",
      "\u001b[31mTypeError\u001b[39m                                 Traceback (most recent call last)",
      "\u001b[36mCell\u001b[39m\u001b[36m \u001b[39m\u001b[32mIn[144]\u001b[39m\u001b[32m, line 3\u001b[39m\n\u001b[32m      1\u001b[39m config = {\u001b[33m\"\u001b[39m\u001b[33mconfigurable\u001b[39m\u001b[33m\"\u001b[39m: {\u001b[33m\"\u001b[39m\u001b[33mthread_id\u001b[39m\u001b[33m\"\u001b[39m: \u001b[33m\"\u001b[39m\u001b[33m6\u001b[39m\u001b[33m\"\u001b[39m}}\n\u001b[32m----> \u001b[39m\u001b[32m3\u001b[39m \u001b[38;5;28;43;01mfor\u001b[39;49;00m\u001b[43m \u001b[49m\u001b[43mchunk\u001b[49m\u001b[43m \u001b[49m\u001b[38;5;129;43;01min\u001b[39;49;00m\u001b[43m \u001b[49m\u001b[43mgraph_builder\u001b[49m\u001b[43m.\u001b[49m\u001b[43mastream_events\u001b[49m\u001b[43m(\u001b[49m\u001b[43m{\u001b[49m\u001b[33;43m\"\u001b[39;49m\u001b[33;43mmessages\u001b[39;49m\u001b[33;43m\"\u001b[39;49m\u001b[43m:\u001b[49m\u001b[43m \u001b[49m\u001b[33;43m\"\u001b[39;49m\u001b[33;43mMy name is Musharraf Hamraz and I llike Cricket\u001b[39;49m\u001b[33;43m\"\u001b[39;49m\u001b[43m}\u001b[49m\u001b[43m,\u001b[49m\u001b[43m \u001b[49m\u001b[43mconfig\u001b[49m\u001b[43m=\u001b[49m\u001b[43mconfig\u001b[49m\u001b[43m,\u001b[49m\u001b[43m \u001b[49m\u001b[43mstream_mode\u001b[49m\u001b[43m=\u001b[49m\u001b[33;43m\"\u001b[39;49m\u001b[33;43mvalue\u001b[39;49m\u001b[33;43m\"\u001b[39;49m\u001b[43m)\u001b[49m\u001b[43m:\u001b[49m\n\u001b[32m      4\u001b[39m \u001b[43m    \u001b[49m\u001b[38;5;28;43mprint\u001b[39;49m\u001b[43m(\u001b[49m\u001b[43mchunk\u001b[49m\u001b[43m)\u001b[49m\n",
      "\u001b[31mTypeError\u001b[39m: 'async_generator' object is not iterable"
     ]
    }
   ],
   "source": [
    "config = {\"configurable\": {\"thread_id\": \"6\"}}\n",
    "\n",
    "for chunk in graph_builder.astream_events({\"messages\": \"My name is Musharraf Hamraz and I llike Cricket\"}, config=config, stream_mode=\"value\"):\n",
    "    print(chunk)"
   ]
  },
  {
   "cell_type": "code",
   "execution_count": null,
   "id": "de36fcfb",
   "metadata": {},
   "outputs": [],
   "source": []
  },
  {
   "cell_type": "code",
   "execution_count": null,
   "id": "81416816",
   "metadata": {},
   "outputs": [],
   "source": []
  }
 ],
 "metadata": {
  "kernelspec": {
   "display_name": "uv_langgraph",
   "language": "python",
   "name": "python3"
  },
  "language_info": {
   "codemirror_mode": {
    "name": "ipython",
    "version": 3
   },
   "file_extension": ".py",
   "mimetype": "text/x-python",
   "name": "python",
   "nbconvert_exporter": "python",
   "pygments_lexer": "ipython3",
   "version": "3.12.2"
  }
 },
 "nbformat": 4,
 "nbformat_minor": 5
}
